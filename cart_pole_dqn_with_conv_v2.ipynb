{
  "nbformat": 4,
  "nbformat_minor": 0,
  "metadata": {
    "colab": {
      "provenance": [],
      "gpuType": "T4",
      "toc_visible": true
    },
    "kernelspec": {
      "name": "python3",
      "display_name": "Python 3"
    },
    "language_info": {
      "name": "python"
    },
    "accelerator": "GPU"
  },
  "cells": [
    {
      "cell_type": "markdown",
      "source": [
        "# install and import"
      ],
      "metadata": {
        "id": "WZhAhsY6vUiV"
      }
    },
    {
      "cell_type": "code",
      "execution_count": null,
      "metadata": {
        "colab": {
          "base_uri": "https://localhost:8080/"
        },
        "id": "KVzAEfJTtY0a",
        "outputId": "afc1ec8a-643c-481c-f4c7-95a8e0f0c054"
      },
      "outputs": [
        {
          "output_type": "stream",
          "name": "stdout",
          "text": [
            "Requirement already satisfied: pyvirtualdisplay in /usr/local/lib/python3.10/dist-packages (3.0)\n",
            "Requirement already satisfied: gym[classic_control] in /usr/local/lib/python3.10/dist-packages (0.25.2)\n",
            "Requirement already satisfied: numpy>=1.18.0 in /usr/local/lib/python3.10/dist-packages (from gym[classic_control]) (1.25.2)\n",
            "Requirement already satisfied: cloudpickle>=1.2.0 in /usr/local/lib/python3.10/dist-packages (from gym[classic_control]) (2.2.1)\n",
            "Requirement already satisfied: gym-notices>=0.0.4 in /usr/local/lib/python3.10/dist-packages (from gym[classic_control]) (0.0.8)\n",
            "Requirement already satisfied: pygame==2.1.0 in /usr/local/lib/python3.10/dist-packages (from gym[classic_control]) (2.1.0)\n",
            "Requirement already satisfied: gym[classic_control] in /usr/local/lib/python3.10/dist-packages (0.25.2)\n",
            "Requirement already satisfied: numpy>=1.18.0 in /usr/local/lib/python3.10/dist-packages (from gym[classic_control]) (1.25.2)\n",
            "Requirement already satisfied: cloudpickle>=1.2.0 in /usr/local/lib/python3.10/dist-packages (from gym[classic_control]) (2.2.1)\n",
            "Requirement already satisfied: gym-notices>=0.0.4 in /usr/local/lib/python3.10/dist-packages (from gym[classic_control]) (0.0.8)\n",
            "Requirement already satisfied: pygame==2.1.0 in /usr/local/lib/python3.10/dist-packages (from gym[classic_control]) (2.1.0)\n",
            "Requirement already satisfied: baselines in /usr/local/lib/python3.10/dist-packages (0.1.5)\n"
          ]
        }
      ],
      "source": [
        "%%bash\n",
        "apt install -y python-opengl ffmpeg > /dev/null 2>&1\n",
        "pip install pyvirtualdisplay gym[classic_control]\n",
        "pip install gym[classic_control]\n",
        "pip install --no-deps baselines"
      ]
    },
    {
      "cell_type": "code",
      "source": [
        "import math\n",
        "import random\n",
        "from typing import Text, Dict, List, NamedTuple, Tuple, Optional, Union\n",
        "from collections import namedtuple\n",
        "from itertools import count\n",
        "from PIL import Image\n",
        "\n",
        "import gym\n",
        "import numpy as np\n",
        "import matplotlib\n",
        "import matplotlib.pyplot as plt\n",
        "from tqdm.auto import trange\n",
        "\n",
        "import torch\n",
        "import torch.nn as nn\n",
        "import torch.optim as optim\n",
        "import torch.nn.functional as F\n",
        "import torchvision.transforms as T\n",
        "from IPython import display\n",
        "\n",
        "import time"
      ],
      "metadata": {
        "id": "_ZrhthSOuXm5"
      },
      "execution_count": null,
      "outputs": []
    },
    {
      "cell_type": "markdown",
      "source": [
        "**Displaying the plot inside the kernel**"
      ],
      "metadata": {
        "id": "taQ6SoSAuzFs"
      }
    },
    {
      "cell_type": "code",
      "source": [
        "is_ipython = 'inline' in matplotlib.get_backend()\n",
        "if is_ipython: from IPython import display"
      ],
      "metadata": {
        "colab": {
          "base_uri": "https://localhost:8080/"
        },
        "id": "ijUrp4dput9O",
        "outputId": "1f7b3c8d-1b9b-48c2-93fc-65c8b88e1c63"
      },
      "execution_count": null,
      "outputs": [
        {
          "output_type": "stream",
          "name": "stderr",
          "text": [
            "/usr/local/lib/python3.10/dist-packages/ipykernel/ipkernel.py:283: DeprecationWarning: `should_run_async` will not call `transform_cell` automatically in the future. Please pass the result to `transformed_cell` argument and any exception that happen during thetransform in `preprocessing_exc_tuple` in IPython 7.17 and above.\n",
            "  and should_run_async(code)\n"
          ]
        }
      ]
    },
    {
      "cell_type": "markdown",
      "source": [
        "**Create a virtual display in the background**"
      ],
      "metadata": {
        "id": "UpnPInCbu51F"
      }
    },
    {
      "cell_type": "code",
      "source": [
        "!apt install -y xvfb"
      ],
      "metadata": {
        "colab": {
          "base_uri": "https://localhost:8080/"
        },
        "id": "FvP3Y_yEvBnK",
        "outputId": "2b1fe978-943a-4f42-bc32-5833132c7b9b"
      },
      "execution_count": null,
      "outputs": [
        {
          "output_type": "stream",
          "name": "stdout",
          "text": [
            "Reading package lists... Done\n",
            "Building dependency tree... Done\n",
            "Reading state information... Done\n",
            "xvfb is already the newest version (2:21.1.4-2ubuntu1.7~22.04.11).\n",
            "0 upgraded, 0 newly installed, 0 to remove and 45 not upgraded.\n"
          ]
        }
      ]
    },
    {
      "cell_type": "code",
      "source": [
        "import pyvirtualdisplay\n",
        "_display = pyvirtualdisplay.Display(visible=0,  # use False with Xvfb\n",
        "                                    size=(400, 300))\n",
        "_display.start()"
      ],
      "metadata": {
        "colab": {
          "base_uri": "https://localhost:8080/"
        },
        "id": "1UsC9ytgu3Dm",
        "outputId": "9197fdad-a24b-480e-f30d-aacc67575a22"
      },
      "execution_count": null,
      "outputs": [
        {
          "output_type": "execute_result",
          "data": {
            "text/plain": [
              "<pyvirtualdisplay.display.Display at 0x799b2e023f10>"
            ]
          },
          "metadata": {},
          "execution_count": 5
        }
      ]
    },
    {
      "cell_type": "markdown",
      "source": [
        "# Define the classes and function"
      ],
      "metadata": {
        "id": "JxfNm6Z1yGXV"
      }
    },
    {
      "cell_type": "markdown",
      "source": [
        "## DQN"
      ],
      "metadata": {
        "id": "DRDauvvQvhcx"
      }
    },
    {
      "cell_type": "code",
      "source": [
        "class DQN(nn.Module):\n",
        "    def __init__(self, img_height, img_width):\n",
        "    #def __init__(self, num_state_features):\n",
        "        \"\"\"\n",
        "        (UPDATE!)\n",
        "        | Now, we're passing the state returned by the Gym environment\n",
        "           as a 1-dimensional tensor with 4 elements:\n",
        "          Args:\n",
        "           num_state_features: [cart_position,\n",
        "                                cart_velocity,\n",
        "                                pole_angle,\n",
        "                                pole_velocity_at_tip]\n",
        "        \"\"\"\n",
        "        super().__init__()\n",
        "        # Initialize our layers\n",
        "        # convolution\n",
        "        self.conv1 = nn.Conv2d(in_channels=3, out_channels=32, kernel_size=8, stride=4, padding=1)\n",
        "        self.conv2 = nn.Conv2d(in_channels=32, out_channels=64, kernel_size=4, stride=2, padding=1)\n",
        "        self.conv3 = nn.Conv2d(in_channels=64, out_channels=64, kernel_size=3, stride=1, padding=1)\n",
        "\n",
        "        # Liner\n",
        "        self.fc1 = nn.Linear(in_features= 2816, out_features=32)\n",
        "        self.fc2 = nn.Linear(in_features=32,\n",
        "                             out_features=64)\n",
        "        self.fc3 = nn.Linear(in_features=64,\n",
        "                             out_features=128)\n",
        "        self.out = nn.Linear(in_features=128,\n",
        "                             out_features=2) # Back to the Project overview, you can\n",
        "                                             # see that total possible movements\n",
        "                                             # the object can do is (<left, right>)\n",
        "    def forward(self, t):\n",
        "        # No Longer flatten the input\n",
        "\n",
        "        if len(t.shape) == 5:      # if the tensor shape is 5\n",
        "            t = t.squeeze(1) # Remove the dimension of size 1\n",
        "\n",
        "        t = F.relu(self.conv1(t))\n",
        "        t = F.relu(self.conv2(t))\n",
        "        t = F.relu(self.conv3(t))\n",
        "\n",
        "        t = t.view(t.size(0), -1) # flatten\n",
        "\n",
        "        t = F.relu(self.fc1(t))\n",
        "        t = F.relu(self.fc2(t))\n",
        "        t = F.relu(self.fc3(t))\n",
        "        t = F.relu(self.out(t))\n",
        "        #t = self.out(t)\n",
        "        return t"
      ],
      "metadata": {
        "id": "IXwnXUTcu5F4",
        "colab": {
          "base_uri": "https://localhost:8080/"
        },
        "outputId": "6c01dd26-a1db-43cf-99de-7406d848a717"
      },
      "execution_count": null,
      "outputs": [
        {
          "output_type": "stream",
          "name": "stderr",
          "text": [
            "/usr/local/lib/python3.10/dist-packages/ipykernel/ipkernel.py:283: DeprecationWarning: `should_run_async` will not call `transform_cell` automatically in the future. Please pass the result to `transformed_cell` argument and any exception that happen during thetransform in `preprocessing_exc_tuple` in IPython 7.17 and above.\n",
            "  and should_run_async(code)\n"
          ]
        }
      ]
    },
    {
      "cell_type": "markdown",
      "source": [
        "## experience class"
      ],
      "metadata": {
        "id": "7YJCqJRtwEbs"
      }
    },
    {
      "cell_type": "code",
      "source": [
        "Experience = namedtuple(\n",
        "    'Experience',\n",
        "    ('state', 'action', 'next_state', 'reward')\n",
        ")"
      ],
      "metadata": {
        "id": "3aVuGD66v94c"
      },
      "execution_count": null,
      "outputs": []
    },
    {
      "cell_type": "code",
      "source": [
        "Experience"
      ],
      "metadata": {
        "colab": {
          "base_uri": "https://localhost:8080/"
        },
        "id": "Ab0oAJK-wMk4",
        "outputId": "f3e317e0-c60b-4605-e413-518edae28a03"
      },
      "execution_count": null,
      "outputs": [
        {
          "output_type": "execute_result",
          "data": {
            "text/plain": [
              "__main__.Experience"
            ]
          },
          "metadata": {},
          "execution_count": 8
        }
      ]
    },
    {
      "cell_type": "markdown",
      "source": [
        "**Display the experience display format**"
      ],
      "metadata": {
        "id": "gsp2DiClwssH"
      }
    },
    {
      "cell_type": "code",
      "source": [
        "e = Experience(2, 3, 1, 4)\n",
        "e"
      ],
      "metadata": {
        "colab": {
          "base_uri": "https://localhost:8080/"
        },
        "id": "9f0rUzb6wcDP",
        "outputId": "8feb836e-8c6b-4152-8c6f-7e2b36dec8d4"
      },
      "execution_count": null,
      "outputs": [
        {
          "output_type": "execute_result",
          "data": {
            "text/plain": [
              "Experience(state=2, action=3, next_state=1, reward=4)"
            ]
          },
          "metadata": {},
          "execution_count": 9
        }
      ]
    },
    {
      "cell_type": "code",
      "source": [
        "type(e)"
      ],
      "metadata": {
        "colab": {
          "base_uri": "https://localhost:8080/"
        },
        "id": "Fjn9nTxEwubk",
        "outputId": "b94a1102-38c4-4028-fbdb-73209a7a71a4"
      },
      "execution_count": null,
      "outputs": [
        {
          "output_type": "execute_result",
          "data": {
            "text/plain": [
              "__main__.Experience"
            ]
          },
          "metadata": {},
          "execution_count": 10
        }
      ]
    },
    {
      "cell_type": "markdown",
      "source": [
        "## replay memory"
      ],
      "metadata": {
        "id": "2S_fjXvuw0MS"
      }
    },
    {
      "cell_type": "code",
      "source": [
        "class ReplayMemeory:\n",
        "    def __init__(self, capacity):\n",
        "        self.capacity = capacity\n",
        "        self.memory = []\n",
        "        self.push_count = 0\n",
        "\n",
        "    def push(self, experience) -> None:\n",
        "        \"\"\"\n",
        "        | This function responsible for adding experience to the\n",
        "        | memory. Also used for sampling experiences from replay memory.\n",
        "          IF memory less than memory initialied capacity,\n",
        "            we're going to append inside the memory\n",
        "          IF NOT\n",
        "            we're going to begin push new experience onto the front\n",
        "            of memory overwriting the oldest experience.\n",
        "\n",
        "          Args:\n",
        "            experience\n",
        "        \"\"\"\n",
        "        if len(self.memory) < self.capacity:\n",
        "            self.memory.append(experience)\n",
        "        else:\n",
        "            self.memory[self.push_count % self.capacity] = experience\n",
        "            self.push_count += 1\n",
        "\n",
        "    def sample(self, batch_size: int):\n",
        "        \"\"\"Sample is equal to the `batch_size` sent to this function`\"\"\"\n",
        "        return random.sample(self.memory, batch_size)\n",
        "\n",
        "    def can_provide_sample(self, batch_size: int) -> bool:\n",
        "        \"\"\"\n",
        "        |It tells us whether or not we can sample from memory.\n",
        "          We call that the size of a sample we'll obtain from memory\n",
        "          will be equal to the batch size we use to train our network.\n",
        "          For example, suppose we only have 20 experiences in replay memory\n",
        "          and that our batch size is 50. Then, we will be unable to sample\n",
        "          because we do not have 20 experiences yet.\n",
        "        \"\"\"\n",
        "        return len(self.memory) >= batch_size"
      ],
      "metadata": {
        "id": "tYvOq-53wwUi"
      },
      "execution_count": null,
      "outputs": []
    },
    {
      "cell_type": "markdown",
      "source": [
        "## Epsilon Greedy Strategy"
      ],
      "metadata": {
        "id": "LQpdLl11xEWQ"
      }
    },
    {
      "cell_type": "code",
      "source": [
        "class EpsilonGreedyStrategy:\n",
        "    def __init__(self, start, end, decay):\n",
        "        self.start = start\n",
        "        self.end = end\n",
        "        self.decay = decay\n",
        "\n",
        "    def get_exploration_rate(self, current_step: int) -> float:\n",
        "        return self.end + (self.start - self.end) *\\\n",
        "                math.exp(-1. * current_step * self.decay)"
      ],
      "metadata": {
        "id": "aUnij9-1xDyl"
      },
      "execution_count": null,
      "outputs": []
    },
    {
      "cell_type": "markdown",
      "source": [
        "## Agent"
      ],
      "metadata": {
        "id": "U3pqUXoZxRkL"
      }
    },
    {
      "cell_type": "code",
      "source": [
        "class Agent:\n",
        "    def __init__(self, strategy, num_actions, device) -> None:\n",
        "        \"\"\"\n",
        "          strategy: represent an instance from EpsilonGreedyStrategy\n",
        "          num_actions: corresponding to how many possible actions\n",
        "                       can the agent take from a given state.\n",
        "        \"\"\"\n",
        "        self.strategy = strategy\n",
        "        self.num_actions = num_actions\n",
        "        self.current_step = 0\n",
        "        self.device = device\n",
        "\n",
        "    def select_action(self, state, policy_net) -> float:\n",
        "        \"\"\"\n",
        "        (UPDATE!)\n",
        "          The shape of our states have changed, we need to reshape the results\n",
        "           returned by the network by adding one additional dimension to\n",
        "           the tensor using the `unsqueeze()` function.\n",
        "        \"\"\"\n",
        "\n",
        "        epsilon_rate = self.strategy.get_exploration_rate(self.current_step)\n",
        "        self.current_step += 1\n",
        "\n",
        "        # select an action\n",
        "        if epsilon_rate > random.random(): # used random instead of uniform since\n",
        "                                               # I don't need to end up selecting 1\n",
        "                                               # at the begining.\n",
        "            action = random.randrange(self.num_actions)\n",
        "            return torch.tensor([action]).to(device=self.device) # explore\n",
        "        else:\n",
        "            with torch.no_grad(): # we don't need to compute the graph (aka. gradiant track)\n",
        "                                # we're just using the model for inference testing.\n",
        "                return policy_net(state).argmax(dim=1).to(self.device) # exploit\n",
        "                #return policy_net(state).\\\n",
        "                 #      unsqueeze(dim=0).\\\n",
        "                  #     argmax(dim=1).\\\n",
        "                   #    to(device=self.device) # exploit"
      ],
      "metadata": {
        "id": "bqAOTYwXxNCo"
      },
      "execution_count": null,
      "outputs": []
    },
    {
      "cell_type": "markdown",
      "source": [
        "## environment"
      ],
      "metadata": {
        "id": "iY59JUrFywOT"
      }
    },
    {
      "cell_type": "code",
      "source": [
        "class CartPoleEnvManager:\n",
        "    def __init__(self, device) -> None:\n",
        "        \"\"\"\n",
        "        (UPDATE!)\n",
        "          we're no longer dealing with screen frames to determine the environment\n",
        "           states, the class no longer has a `current_screen` attribute.\n",
        "           Instead, we now have a `current_state` attribute, which is initialized to None.\n",
        "        \"\"\"\n",
        "        self.device = device\n",
        "        self.env = gym.make('CartPole-v1').unwrapped # to access the tools that\n",
        "                                                    # we won't access in the normal intialization\n",
        "        self.env.reset() # reset the environment to get the initial observations\n",
        "        # ***************\n",
        "        self.current_screen = None #\n",
        "        # ***************\n",
        "        self.current_state = None # No longer available\n",
        "        self.done = False\n",
        "\n",
        "    def reset(self) -> None:\n",
        "        \"\"\"\n",
        "        (UPDATE!)\n",
        "         Function now resets its `current_state` to the initial observation returned\n",
        "          by the Gym environment when its reset, rather than resetting the screen\n",
        "          as was implemented previously.\n",
        "        \"\"\"\n",
        "        self.current_state = self.env.reset()\n",
        "\n",
        "    def close(self) -> None:\n",
        "        self.env.close()\n",
        "\n",
        "    def render(self, mode='human'):\n",
        "        return self.env.render(mode)\n",
        "\n",
        "    def display(self):\n",
        "        return self.env.display()\n",
        "\n",
        "    def num_actions_available(self):\n",
        "        \"\"\"checking number of actions available in the environment –\n",
        "           we have two options [<left, right>]\n",
        "        \"\"\"\n",
        "        return self.env.action_space.n\n",
        "\n",
        "    def take_action(self, action: torch.Tensor) -> torch.Tensor:\n",
        "        \"\"\"\n",
        "        (UPDATE!)\n",
        "          We would not store the state returned by `env.step()` since we were not\n",
        "           making use of it. Now, since we're using the returned state, rather than\n",
        "           the screen frames, we store the state returned by `step()`\n",
        "           in the class's `current_state` attribute.\n",
        "        \"\"\"\n",
        "        # _, reward, self.done, _ = self.env.step(action.item()) # .item() is refer to our element inside the tensor\n",
        "        #print(\"Length:\", len(self.env.step(action.item())))\n",
        "        self.current_state, reward, self.done, _,_ = self.env.step(action.item())\n",
        "        return torch.tensor([reward], device=self.device)\n",
        "\n",
        "    def get_state(self):\n",
        "        \"\"\"\n",
        "        (UPDATE!)\n",
        "          Previously, this function would return the pixel data that resulted from\n",
        "           the difference of the last two screen frames rendered in the environment.\n",
        "          Now, we simply return the state of the environment that we've stored in\n",
        "          the class's current_state attribute.\n",
        "        \"\"\"\n",
        "\n",
        "        if self.done or self.current_screen is None:\n",
        "            state_tensor = torch.zeros_like(\n",
        "              torch.tensor(self.current_screen, device=self.device)\n",
        "            ).float()\n",
        "        else:\n",
        "            state_tensor = torch.tensor(self.current_state, device=self.device).float()\n",
        "        return state_tensor\n",
        "\n",
        "    def num_state_features(self):\n",
        "        \"\"\"\n",
        "        (NEW!)\n",
        "          Returns the number of features included in a state returned by the Gym environment.\n",
        "          This is so that we can know the size of states that will be passed to the\n",
        "          network as input.\n",
        "        \"\"\"\n",
        "        return self.env.observation_space.shape[0]\n",
        "    # ------------------------------------------------------------------------------\n",
        "    \"\"\"\n",
        "    (UPDATE!)\n",
        "     We no longer need any of the functions that we previously used for\n",
        "     screen processing, and so they can all be deleted. These include:\n",
        "      - get_screen_height()\n",
        "      - get_screen_width()\n",
        "      - get_processed_screen()\n",
        "      - crop_screen()\n",
        "      - transform_screen_data()\n",
        "      - just_starting()\n",
        "    \"\"\"\n",
        "    def image_reset(self) -> None:\n",
        "        self.env.reset()\n",
        "        self.current_screen = None # for resetting the screen to the first screen\n",
        "\n",
        "    def get_image_state(self):\n",
        "        \"\"\"Return the current state of the environment in the form of\n",
        "           a processed image of the screen.\n",
        "        \"\"\"\n",
        "        if self.just_starting() or self.done:\n",
        "            # if we're at the start of at the end of the proccess, we initialize\n",
        "            # the image as a black screen.\n",
        "            self.current_screen = self.get_processed_screen()\n",
        "            black_screen = torch.zeros_like(self.current_screen)\n",
        "            return black_screen\n",
        "        else:\n",
        "            # current screen\n",
        "            s1 = self.current_screen\n",
        "            # call a new screen (the next screen)\n",
        "            s2 = self.get_processed_screen()\n",
        "            # make the next screen is the current screen\n",
        "            self.current_screen = s2\n",
        "            # return the difference between two screens to get the current state\n",
        "            return s2 - s1\n",
        "\n",
        "    def just_starting(self) -> bool:\n",
        "        \"\"\"Check whether the the current screen is None or not\n",
        "            This help to check if we're at the start of the environment or not!\n",
        "        \"\"\"\n",
        "        return self.current_screen is None\n",
        "\n",
        "    def get_screen_height(self) -> int:\n",
        "        screen = self.get_processed_screen()\n",
        "        return screen.shape[2]\n",
        "\n",
        "    def get_screen_width(self) -> int:\n",
        "        screen = self.get_processed_screen()\n",
        "        return screen.shape[3]\n",
        "\n",
        "    def get_processed_screen(self):\n",
        "        \"\"\"Get the image's color channels then transpose the channels\n",
        "        into the order of channels by height and width which what PyTorch DQN expect\n",
        "        \"\"\"\n",
        "        screen = self.render('rgb_array').transpose((2, 0, 1))\n",
        "        screen = self.crop_screen(screen)\n",
        "        return self.transform_screen_data(screen)\n",
        "\n",
        "    def crop_screen(self, screen):\n",
        "        \"\"\"Except screen and will return a cropped version of it\"\"\"\n",
        "        screen_height = screen.shape[1]\n",
        "\n",
        "        # strip off top and bottom\n",
        "        top = int(screen_height * 0.4)\n",
        "        bottom = int(screen_height * 0.8)\n",
        "        # we cropped 40% of the top of the screen & 20% of the bottom of the screen\n",
        "        screen = screen[:, top:bottom, :]\n",
        "\n",
        "        return screen\n",
        "\n",
        "    def transform_screen_data(self, screen):\n",
        "        # Convert to float, rescale, convert to tensor\n",
        "        screen = np.ascontiguousarray(screen, # This array return contiguous array of the same as screen but transformed\n",
        "                                      dtype=np.float32) / 255 # these values here will be stored sequencially in the memory\n",
        "\n",
        "        screen = torch.from_numpy(screen)\n",
        "\n",
        "        # Use `torchvision` package to compose several image transformations\n",
        "        resize = T.Compose([\n",
        "                           T.ToPILImage(), # Convert the image to pill image\n",
        "                           T.Resize((40,90)), # resize the image to 40x90\n",
        "                           T.ToTensor() # convert it to tensor\n",
        "        ])\n",
        "        # Unsqueeze should add another dimension which represents the batch dim\n",
        "        ## since the processed images will be passed to the dqn in batches.\n",
        "        return resize(screen).unsqueeze(0).to(self.device)\n"
      ],
      "metadata": {
        "id": "mppp4rqZxZcA"
      },
      "execution_count": null,
      "outputs": []
    },
    {
      "cell_type": "markdown",
      "source": [
        "# example for screen and states"
      ],
      "metadata": {
        "id": "wNQU8F0p47qN"
      }
    },
    {
      "cell_type": "markdown",
      "source": [
        "### Example of non-processed screen"
      ],
      "metadata": {
        "id": "5uv0-5L_42xb"
      }
    },
    {
      "cell_type": "markdown",
      "source": [
        "steps:<br>\n",
        "1) define \"device <br>\n",
        "2) call the Class into image_em<br>\n",
        "3) using the methods defined in Class - use \". image_reset\"<br>\n",
        "4) using the methods defined in Class- use \".render\""
      ],
      "metadata": {
        "id": "vx3vGarM5M7X"
      }
    },
    {
      "cell_type": "code",
      "source": [
        "device = torch.device(\"cuda\" if torch.cuda.is_available() else \"cpu\")\n",
        "image_em = CartPoleEnvManager(device)\n",
        "image_em.image_reset()\n",
        "screen = image_em.render('rgb_array')\n",
        "\n",
        "# print properties\n",
        "print(\"\\nproperties of variables at the reset step:\\n\")\n",
        "\n",
        "print(\"image_em : \")\n",
        "print(type(image_em), '\\n')\n",
        "print(\"screen:\")\n",
        "print(screen.shape)\n",
        "print(screen.dtype)\n",
        "\n",
        "# plot\n",
        "plt.figure()\n",
        "plt.imshow(screen)\n",
        "plt.title('None-processed Screen Example')\n",
        "plt.show()"
      ],
      "metadata": {
        "colab": {
          "base_uri": "https://localhost:8080/",
          "height": 711
        },
        "id": "8vrEoGUDzJKa",
        "outputId": "ae0a44b8-de31-4254-a9ef-c89be0a8492d"
      },
      "execution_count": null,
      "outputs": [
        {
          "output_type": "stream",
          "name": "stderr",
          "text": [
            "/usr/local/lib/python3.10/dist-packages/gym/core.py:317: DeprecationWarning: \u001b[33mWARN: Initializing wrapper in old step API which returns one bool instead of two. It is recommended to set `new_step_api=True` to use new step API. This will be the default behaviour in future.\u001b[0m\n",
            "  deprecation(\n",
            "/usr/local/lib/python3.10/dist-packages/gym/wrappers/step_api_compatibility.py:39: DeprecationWarning: \u001b[33mWARN: Initializing environment in old step API which returns one bool instead of two. It is recommended to set `new_step_api=True` to use new step API. This will be the default behaviour in future.\u001b[0m\n",
            "  deprecation(\n",
            "/usr/local/lib/python3.10/dist-packages/gym/core.py:43: DeprecationWarning: \u001b[33mWARN: The argument mode in render method is deprecated; use render_mode during environment initialization instead.\n",
            "See here for more information: https://www.gymlibrary.ml/content/api/\u001b[0m\n",
            "  deprecation(\n"
          ]
        },
        {
          "output_type": "stream",
          "name": "stdout",
          "text": [
            "\n",
            "properties of variables at the reset step:\n",
            "\n",
            "image_em : \n",
            "<class '__main__.CartPoleEnvManager'> \n",
            "\n",
            "screen:\n",
            "(400, 600, 3)\n",
            "uint8\n"
          ]
        },
        {
          "output_type": "display_data",
          "data": {
            "text/plain": [
              "<Figure size 640x480 with 1 Axes>"
            ],
            "image/png": "[encoded data removed]"
          },
          "metadata": {}
        }
      ]
    },
    {
      "cell_type": "markdown",
      "source": [
        "### processed screen from the same step, cropped"
      ],
      "metadata": {
        "id": "f0UphTTc665y"
      }
    },
    {
      "cell_type": "code",
      "source": [
        "screen = image_em.get_processed_screen()\n",
        "\n",
        "plt.figure()\n",
        "plt.imshow(screen.squeeze(0).permute(1,2,0).cpu(), interpolation='none')\n",
        "plt.title('Processed Screen Example')\n",
        "plt.show()"
      ],
      "metadata": {
        "colab": {
          "base_uri": "https://localhost:8080/",
          "height": 303
        },
        "id": "OFUP6_gH5B0y",
        "outputId": "9f1bcc37-4373-43f7-843e-fd9550c7d07b"
      },
      "execution_count": null,
      "outputs": [
        {
          "output_type": "display_data",
          "data": {
            "text/plain": [
              "<Figure size 640x480 with 1 Axes>"
            ],
            "image/png": "[encoded data removed]"
          },
          "metadata": {}
        }
      ]
    },
    {
      "cell_type": "markdown",
      "source": [
        "### Example of starting state"
      ],
      "metadata": {
        "id": "gRXmqyFh7I3G"
      }
    },
    {
      "cell_type": "code",
      "source": [
        "screen = image_em.get_image_state()\n",
        "\n",
        "plt.figure()\n",
        "plt.imshow(screen.squeeze(0).permute(1,2,0).cpu(), interpolation='none')\n",
        "plt.title('Example of starting state')\n",
        "plt.show()"
      ],
      "metadata": {
        "colab": {
          "base_uri": "https://localhost:8080/",
          "height": 303
        },
        "id": "Wy8MluaM6-B2",
        "outputId": "806fef03-d392-4bff-ea06-55c18ff4681e"
      },
      "execution_count": null,
      "outputs": [
        {
          "output_type": "display_data",
          "data": {
            "text/plain": [
              "<Figure size 640x480 with 1 Axes>"
            ],
            "image/png": "[encoded data removed]"
          },
          "metadata": {}
        }
      ]
    },
    {
      "cell_type": "markdown",
      "source": [
        "### Example of None-starting state - after some steps"
      ],
      "metadata": {
        "id": "qLvp-04t7hty"
      }
    },
    {
      "cell_type": "code",
      "source": [
        "# take 5 steps using the \"take_action\"\n",
        "# the take_action input is a torch tensor of one step - \"left or right\"\n",
        "# take_action returnes the reward\n",
        "\n",
        "# for the example we input the steps in a loop:\n",
        "for i in range(5):\n",
        "  image_em.take_action(torch.tensor([1]))\n",
        "\n",
        "# we can also take steps manually:\n",
        "\n",
        "\n",
        "# get the images for the screen after the steps are taken\n",
        "screen = image_em.get_image_state()\n",
        "\n",
        "plt.figure()\n",
        "plt.imshow(screen.squeeze(0).permute(1,2,0).cpu(), interpolation='none')\n",
        "plt.title('Example of non-starting state')\n",
        "plt.show()"
      ],
      "metadata": {
        "colab": {
          "base_uri": "https://localhost:8080/",
          "height": 320
        },
        "id": "lnJXfiUh7PT8",
        "outputId": "aa5fceba-4598-47ca-bc02-8f903077dbb0"
      },
      "execution_count": null,
      "outputs": [
        {
          "output_type": "stream",
          "name": "stderr",
          "text": [
            "WARNING:matplotlib.image:Clipping input data to the valid range for imshow with RGB data ([0..1] for floats or [0..255] for integers).\n"
          ]
        },
        {
          "output_type": "display_data",
          "data": {
            "text/plain": [
              "<Figure size 640x480 with 1 Axes>"
            ],
            "image/png": "[encoded data removed]"
          },
          "metadata": {}
        }
      ]
    },
    {
      "cell_type": "markdown",
      "source": [
        "### Example of End state"
      ],
      "metadata": {
        "id": "V89mMaMyVHbB"
      }
    },
    {
      "cell_type": "code",
      "source": [
        "image_em.done = True\n",
        "screen = image_em.get_image_state()\n",
        "\n",
        "plt.figure()\n",
        "plt.imshow(screen.squeeze(0).permute(1,2,0).cpu(), interpolation='none')\n",
        "plt.title('Example of End state')\n",
        "plt.show()"
      ],
      "metadata": {
        "colab": {
          "base_uri": "https://localhost:8080/",
          "height": 303
        },
        "id": "uC0JUsq97pqV",
        "outputId": "b3221d1c-1a51-4be1-d62d-1ce4e0e2f0e0"
      },
      "execution_count": null,
      "outputs": [
        {
          "output_type": "display_data",
          "data": {
            "text/plain": [
              "<Figure size 640x480 with 1 Axes>"
            ],
            "image/png": "[encoded data removed]"
          },
          "metadata": {}
        }
      ]
    },
    {
      "cell_type": "markdown",
      "source": [
        "## Tensor Processing"
      ],
      "metadata": {
        "id": "Pvv3uMWZVPR5"
      }
    },
    {
      "cell_type": "code",
      "source": [
        "def extract_tensors(experiences: NamedTuple) -> Tuple[torch.TensorType]:\n",
        "    \"\"\"\n",
        "    | accepts a batch of Experiences and first transposes\n",
        "    it into an Experience of batches.\n",
        "    \"\"\"\n",
        "    # Convert batch of Experiences to Experience of batches\n",
        "    batch = Experience(*zip(*experiences))\n",
        "\n",
        "    \"\"\"\n",
        "    (UPDATE!)\n",
        "    In our `extract_tensors()` utility function, now that the states\n",
        "     are 1-dimensional, we need to `stack` the `states` and `next_states` along a new axis,\n",
        "     rather than concatenate (`cat`) them along an existing axis,\n",
        "     as we were doing previously when our states were 4-dimensional (`BCHW`).\n",
        "    \"\"\"\n",
        "    # t_states = torch.cat(batch.state)\n",
        "    t_states = torch.stack(batch.state)\n",
        "    t_actions = torch.cat(batch.action)\n",
        "    # t_next_state = torch.cat(batch.next_state)\n",
        "    t_next_state = torch.stack(batch.next_state)\n",
        "    t_rewards = torch.cat(batch.reward)\n",
        "\n",
        "    return (t_states,\n",
        "            t_actions,\n",
        "            t_next_state,\n",
        "            t_rewards)"
      ],
      "metadata": {
        "id": "AZbHl1oiVIRP"
      },
      "execution_count": null,
      "outputs": []
    },
    {
      "cell_type": "markdown",
      "source": [
        "### **Example of `Experience(*zip(*experiences))` used above**\n"
      ],
      "metadata": {
        "id": "noycr4CeVi1I"
      }
    },
    {
      "cell_type": "code",
      "source": [
        "e1 = Experience(1,1,1,1)\n",
        "e2 = Experience(2,2,2,2)\n",
        "e3 = Experience(3,3,3,3)\n",
        "\n",
        "experiences = [e1,e2,e3]\n",
        "experiences"
      ],
      "metadata": {
        "colab": {
          "base_uri": "https://localhost:8080/"
        },
        "id": "LPYY793YVR9E",
        "outputId": "aad75349-c222-487d-dcd6-49e0be118ee6"
      },
      "execution_count": null,
      "outputs": [
        {
          "output_type": "execute_result",
          "data": {
            "text/plain": [
              "[Experience(state=1, action=1, next_state=1, reward=1),\n",
              " Experience(state=2, action=2, next_state=2, reward=2),\n",
              " Experience(state=3, action=3, next_state=3, reward=3)]"
            ]
          },
          "metadata": {},
          "execution_count": 21
        }
      ]
    },
    {
      "cell_type": "code",
      "source": [
        "batch = Experience(*zip(*experiences))\n",
        "batch"
      ],
      "metadata": {
        "colab": {
          "base_uri": "https://localhost:8080/"
        },
        "id": "kiEI-yl9VlhR",
        "outputId": "5600ec41-8f10-4c30-84f3-a95a0e524c4c"
      },
      "execution_count": null,
      "outputs": [
        {
          "output_type": "execute_result",
          "data": {
            "text/plain": [
              "Experience(state=(1, 2, 3), action=(1, 2, 3), next_state=(1, 2, 3), reward=(1, 2, 3))"
            ]
          },
          "metadata": {},
          "execution_count": 22
        }
      ]
    },
    {
      "cell_type": "markdown",
      "source": [
        "## Q-Value Calculator"
      ],
      "metadata": {
        "id": "WTVmqigCVrpK"
      }
    },
    {
      "cell_type": "code",
      "source": [
        "class QValues:\n",
        "    device = torch.device('cuda' if torch.cuda.is_available() else 'cpu')\n",
        "\n",
        "    @staticmethod\n",
        "    def get_current(policy_net, states, actions):\n",
        "        \"\"\"\n",
        "        | his function accepts a `policy_net`, `states`, and `actions`.\n",
        "        | When we call this function in our main program, recall that these `states`\n",
        "          and `actions` are the state-action pairs that were sampled from replay memory.\n",
        "          So, the states and actions correspond with each other.\n",
        "        \"\"\"\n",
        "        # Ensure that each prediction corresponting to each action in the batch\n",
        "        return policy_net(states).gather(dim=1, index=actions.unsqueeze(-1))\n",
        "\n",
        "    @staticmethod\n",
        "    def get_next(target_net, next_states):\n",
        "        \"\"\"\n",
        "        | This function accepts a `target_net` and `next_states`.\n",
        "        | Recall that for each next state, we want to obtain the maximum\n",
        "          q-value predicted by the `target_net` among all possible next actions.\n",
        "        | Link to the description: https://deeplizard.com/learn/video/ewRw996uevM#:~:text=this%20function%20accepts%20a%20target_net%20and%20next_states.%20recall%20that%20for%20each%20next%20state%2C%20we%20want%20to%20obtain%20the%20maximum%20q-value%20predicted%20by%20the%20target_net%20among%20all%20possible%20next%20actions.%20\n",
        "        \"\"\"\n",
        "        # find the locations of all the final states. If an episode is ended by a given action\n",
        "        ## we're finding the locations of these final states so that\n",
        "        ## we know not to pass them to the target_net for q-value predictions\n",
        "        ## when we pass our non-final next states.\n",
        "        final_states_location = next_states.flatten(start_dim=1)\\\n",
        "          .max(dim=1)[0].eq(0).type(torch.bool) #check each individual next state tensor to find its maximum value.\n",
        "          ## If its maximum value is equal to `0`, then we know that this particular next state\n",
        "          ## is a final state, and we represent that as a `True` within this `final_state_locations` tensor.\n",
        "          ## next_states that are not final are represented by a `False` value in the tensor.\n",
        "        non_final_states_locations = (final_states_location == False)\n",
        "\n",
        "        # Now that we know the locations of the non-final states,\n",
        "        ## we can now get the values of these states by indexing into the `next_states` tensor\n",
        "        ## and getting all of the corresponding non_final_states.\n",
        "        non_final_states = next_states[non_final_states_locations]\n",
        "\n",
        "        # Next, we find out the batch_size by checking to see how many next states\n",
        "        ## are in the `next_states` tensor. Using this, we create a new tensor of `zeros`\n",
        "        ## that has a length equal to the batch size.\n",
        "        batch_size = next_states.shape[0]\n",
        "        values = torch.zeros(batch_size).to(QValues.device)\n",
        "\n",
        "        # We then index into this tensor of zeros with the `non_final_state_locations`,\n",
        "        ## and we set the corresponding values for all of these locations\n",
        "        ## equal to the maximum predicted `q-values` from the `target_net` across each action.\n",
        "        values[non_final_states_locations] = target_net(non_final_states).max(dim=1)[0].detach()\n",
        "        # Ref: https://stackoverflow.com/a/56817594/14473118\n",
        "        ## torch.Tensor.detach() –  creates a tensor that shares storage with tensor that does not require grad.\n",
        "\n",
        "        # Return maximum predicted q-value across all actions for each non-final state.\n",
        "        ## (aka. Maximum Expected rate)\n",
        "        return values"
      ],
      "metadata": {
        "id": "pjRYlnMjVoxX"
      },
      "execution_count": null,
      "outputs": []
    },
    {
      "cell_type": "markdown",
      "source": [
        "# Moving Average Plot"
      ],
      "metadata": {
        "id": "EzJCDC3DV5JX"
      }
    },
    {
      "cell_type": "code",
      "source": [
        "def plot(values, # Episode Durations\n",
        "         moving_avg_period,\n",
        "         env=None): # 100 episodes moving average\n",
        "    moving_avg = get_moving_average(moving_avg_period, values)\n",
        "    figure, axes = plt.subplots(1, 2, figsize=(21, 6),\n",
        "                              gridspec_kw={'width_ratios': [4, 6],\n",
        "                                           'wspace':0.025, 'hspace':0.025})\n",
        "\n",
        "    plt.subplots_adjust(wspace=0, hspace=0)\n",
        "    axes[0].set_title('Training...')\n",
        "    axes[0].set_xlabel('Episode')\n",
        "    axes[0].set_ylabel('Duration')\n",
        "    axes[0].plot(values)\n",
        "    axes[0].plot(moving_avg)\n",
        "\n",
        "    if env:\n",
        "        axes[1].set_title('Cart Pole Rendering')\n",
        "        axes[1].grid(False)\n",
        "        axes[1].set_xticks([])\n",
        "        axes[1].set_yticks([])\n",
        "        axes[1].imshow(env.render('rgb_array'))\n",
        "    else:\n",
        "        axes[1].set_axis_off()\n",
        "    plt.pause(0.001)\n",
        "\n",
        "    print(f\"- Episode: {len(values)}, Duration [steps]: {values[-1]} \\n- {moving_avg_period} episodes moving avg: {moving_avg[-1]}\")\n",
        "    print('- epsilon_rate:', agent.strategy.get_exploration_rate(agent.current_step))\n",
        "\n",
        "    if is_ipython: display.clear_output(wait=True)"
      ],
      "metadata": {
        "id": "E5ja_n82Vyhe"
      },
      "execution_count": null,
      "outputs": []
    },
    {
      "cell_type": "code",
      "source": [
        "def get_moving_average(period, values):\n",
        "    values = torch.tensor(values, dtype=torch.float)\n",
        "\n",
        "    if len(values) >= period: # we can't calculate moving average of a dataset\n",
        "                            ## when the dataset is not at least as large as the\n",
        "                            ## the period we want to caculate the moving average for\n",
        "\n",
        "        moving_avg = values.unfold(dimension=0, # which returns a tensor that contains\n",
        "                                   size=period, # with a size equal to the period\n",
        "                                   step=1)\\\n",
        "                                   .mean(dim=1).flatten(start_dim=0)\n",
        "                                   # containing all slices of 100 accross the original value tensor\n",
        "                                   ## taking the average of each of these slices\n",
        "                                                        ## and flatten the tensor so that now\n",
        "                                                        ## a moving average is equal to tensor\n",
        "                                                        ## containing all 100 period moving average.\n",
        "\n",
        "        # We then concatenate this resulting tensor to a tensor of zeros with a size\n",
        "        ## equal to `period-1`. This is to show that the moving average for the first\n",
        "        ## `period-1` values is zero given the explanation we just gave a moment ago.\n",
        "        ## So, if our period is `100`, then the first `99` values of the moving_avg\n",
        "        ## tensor will be `0`, and then each value afterwards will be the actual\n",
        "        ## calculated `100-period` moving average.\n",
        "        moving_avg = torch.cat((torch.zeros(period-1), moving_avg))\n",
        "        return moving_avg.numpy()\n",
        "    else:\n",
        "        # if the values is not bigger of equal to the period\n",
        "        moving_avg = torch.zeros(len(values))\n",
        "        return moving_avg.numpy()"
      ],
      "metadata": {
        "id": "Fcvzo1tZV1pz"
      },
      "execution_count": null,
      "outputs": []
    },
    {
      "cell_type": "code",
      "source": [
        "#@title plot epsilon\n",
        "eps_start = 1 # --> Epsilon start\n",
        "eps_end = 0.01 # --> Epsilon end\n",
        "eps_decay_1 = 0.001 # --> rate of Epsilon decay\n",
        "eps_decay_2 = 0.0008\n",
        "eps_decay_3=0.005\n",
        "\n",
        "x=np.arange(0,7000)\n",
        "y1=eps_end+(eps_start-eps_end)*np.exp(-1* eps_decay_1*x)\n",
        "y2=eps_end+(eps_start-eps_end)*np.exp(-1* eps_decay_2*x)\n",
        "y3=eps_end+(eps_start-eps_end)*np.exp(-1* eps_decay_3*x)\n",
        "plt.figure()\n",
        "plt.title('epsilon decay graph')\n",
        "plt.xlabel('episode')\n",
        "plt.ylabel('epsilon value')\n",
        "plt.grid(True)\n",
        "plt.plot(x,y1)\n",
        "plt.plot(x,y2)\n",
        "plt.plot(x,y3)\n",
        "plt.axhline(y=eps_end, color='black', linestyle='--')\n",
        "plt.text(0, eps_end, f'eps_end = {eps_end}', va='bottom', color='black')\n",
        "plt.legend([f'rate {eps_decay_1}',f'rate {eps_decay_2}',f'rate {eps_decay_3}'])\n",
        "plt.show()"
      ],
      "metadata": {
        "colab": {
          "base_uri": "https://localhost:8080/",
          "height": 472
        },
        "id": "y0elY8BZAKup",
        "outputId": "5199550e-524b-404e-ea83-4692387045ad"
      },
      "execution_count": null,
      "outputs": [
        {
          "output_type": "display_data",
          "data": {
            "text/plain": [
              "<Figure size 640x480 with 1 Axes>"
            ],
            "image/png": "[encoded data removed]"
          },
          "metadata": {}
        }
      ]
    },
    {
      "cell_type": "markdown",
      "source": [
        "# Main"
      ],
      "metadata": {
        "id": "WkkdmpoPWgIc"
      }
    },
    {
      "cell_type": "code",
      "source": [
        "#@title Global Hyperparameters\n",
        "batch_size = 64\n",
        "gamma = 0.999 # --> discounted rate\n",
        "eps_start =   1 # --> Epsilon start\n",
        "eps_end =     0.01 # --> Epsilon end\n",
        "eps_decay = 0.001 # --> rate of Epsilon decay\n",
        "target_update = 10 # --> For every 10 episode, we're going to update\n",
        "                         ## the target network with the policy network weights\n",
        "# 1. Initialize replay memory capacity.\n",
        "memory_size = 1000000\n",
        "lr = 0.001\n",
        "num_episodes = 4000"
      ],
      "metadata": {
        "id": "VZEujcAZV-0a"
      },
      "execution_count": null,
      "outputs": []
    },
    {
      "cell_type": "code",
      "source": [
        "device = torch.device('cuda' if torch.cuda.is_available() else 'cpu')\n",
        "em = CartPoleEnvManager(device)\n",
        "strategy = EpsilonGreedyStrategy(eps_start, eps_end, eps_decay)\n",
        "agent = Agent(strategy, em.num_actions_available(), device)\n",
        "memory = ReplayMemeory(memory_size)\n",
        "\n",
        "# 2. Initialize the policy network with random weights.\n",
        "policy_net = DQN(em.get_screen_height(), em.get_screen_width()).to(device)\n",
        "\n",
        "# 3. Clone the policy network, and call it the target network.\n",
        "target_net = DQN(em.get_screen_height(), em.get_screen_width()).to(device)"
      ],
      "metadata": {
        "id": "vtvurKaVWJDd"
      },
      "execution_count": null,
      "outputs": []
    },
    {
      "cell_type": "markdown",
      "source": [
        "### Updating the policies\n",
        "Get the `target_network` weights from `policy_network` wieghts"
      ],
      "metadata": {
        "id": "7VuXNmczWWx7"
      }
    },
    {
      "cell_type": "code",
      "source": [
        "target_net.load_state_dict(policy_net.state_dict())"
      ],
      "metadata": {
        "colab": {
          "base_uri": "https://localhost:8080/"
        },
        "id": "rxbESKMhWQmZ",
        "outputId": "11eec6b8-47f9-4a28-b283-0ea578c385af"
      },
      "execution_count": null,
      "outputs": [
        {
          "output_type": "execute_result",
          "data": {
            "text/plain": [
              "<All keys matched successfully>"
            ]
          },
          "metadata": {},
          "execution_count": 31
        }
      ]
    },
    {
      "cell_type": "markdown",
      "source": [
        "set target_net for evaluation:"
      ],
      "metadata": {
        "id": "KS6vQkUfPcxD"
      }
    },
    {
      "cell_type": "code",
      "source": [
        "target_net.eval()"
      ],
      "metadata": {
        "colab": {
          "base_uri": "https://localhost:8080/"
        },
        "id": "SUMtWoQ9W9_U",
        "outputId": "55590661-29a6-45a9-cffc-fab62be6291a"
      },
      "execution_count": null,
      "outputs": [
        {
          "output_type": "execute_result",
          "data": {
            "text/plain": [
              "DQN(\n",
              "  (conv1): Conv2d(3, 32, kernel_size=(8, 8), stride=(4, 4), padding=(1, 1))\n",
              "  (conv2): Conv2d(32, 64, kernel_size=(4, 4), stride=(2, 2), padding=(1, 1))\n",
              "  (conv3): Conv2d(64, 64, kernel_size=(3, 3), stride=(1, 1), padding=(1, 1))\n",
              "  (fc1): Linear(in_features=2816, out_features=32, bias=True)\n",
              "  (fc2): Linear(in_features=32, out_features=64, bias=True)\n",
              "  (fc3): Linear(in_features=64, out_features=128, bias=True)\n",
              "  (out): Linear(in_features=128, out_features=2, bias=True)\n",
              ")"
            ]
          },
          "metadata": {},
          "execution_count": 32
        }
      ]
    },
    {
      "cell_type": "markdown",
      "source": [
        "Update the weights in the `policy_network`"
      ],
      "metadata": {
        "id": "1-HAufcyXFq7"
      }
    },
    {
      "cell_type": "code",
      "source": [
        "optimizer = optim.Adam(params=policy_net.parameters(), lr=lr)"
      ],
      "metadata": {
        "id": "vc6QAWADXAK2"
      },
      "execution_count": null,
      "outputs": []
    },
    {
      "cell_type": "markdown",
      "source": [
        "# Train"
      ],
      "metadata": {
        "id": "SNwNWNxFXKyv"
      }
    },
    {
      "cell_type": "code",
      "source": [
        "def format_time(seconds):\n",
        "    minutes = int(seconds // 60)\n",
        "    remaining_seconds = int(seconds % 60)\n",
        "    return f\"{minutes}:{remaining_seconds:02d}\""
      ],
      "metadata": {
        "id": "sIVqz4kWWx0t"
      },
      "execution_count": null,
      "outputs": []
    },
    {
      "cell_type": "code",
      "source": [
        "start_time = time.time()\n",
        "episode_duration = []\n",
        "\n",
        "# 4. For each episode:\n",
        "for episode in range(num_episodes):\n",
        "    em.reset()\n",
        "    # (4.1) Initialize the starting state.\n",
        "    state = em.get_image_state()\n",
        "    # (4.2) For each time step:\n",
        "    for timestep in count():\n",
        "        \"\"\"\n",
        "        (UPDATE!)\n",
        "          We've now added a line to our main program's nested timestep loop to `render()`\n",
        "           the environment to the screen. Previously, the call to `render()` was nested\n",
        "           inside one of the `CartPoleEnvManager`'s screen processing functions\n",
        "           `get_processed_screen()` that we no longer utilize.\n",
        "        \"\"\"\n",
        "        # (4.2.1) Select an action.\n",
        "        action = agent.select_action(state, policy_net)\n",
        "        # (4.2.2) Execute selected action in an emulator.\n",
        "        # (4.2.3) Observe reward and next state.\n",
        "        reward = em.take_action(action)\n",
        "        next_states = em.get_image_state()\n",
        "        # (4.2.4) Store experience in replay memory.\n",
        "        memory.push(Experience(state, action, next_states, reward))\n",
        "        state = next_states\n",
        "\n",
        "        # (4.2.5) Sample random batch from replay amemory.\n",
        "        if memory.can_provide_sample(batch_size):\n",
        "            experiences = memory.sample(batch_size)\n",
        "            # (4.2.6) Preprocess states from batch.\n",
        "            states, actions, next_states, rewards = extract_tensors(experiences)\n",
        "            # (4.2.7) Pass batch of preprocessed states to policy network.\n",
        "            # Get the current Q-values of the policy net and the next Q-values for the target nework\n",
        "            current_q_values = QValues.get_current(policy_net, states, actions)\n",
        "            next_q_values = QValues.get_next(target_net, next_states)\n",
        "            # calculate the target Q-values (aka. Bellman Optimality Equation)\n",
        "            target_q_values = rewards + (gamma * next_q_values)\n",
        "\n",
        "            # (4.2.8) Calculate loss between output Q-values and target Q-values.\n",
        "            loss = F.mse_loss(current_q_values, target_q_values.unsqueeze(1))\n",
        "\n",
        "            # (4.2.9) Gradient descent updates weights in the policy network to minimize loss.\n",
        "            ## Calculate the gradients of the loss\n",
        "            loss.backward()\n",
        "            ## Update the network with the gradients\n",
        "            optimizer.step()\n",
        "            ## Reset the gradients weights & biases before back propagation\n",
        "            optimizer.zero_grad()\n",
        "\n",
        "        # Check if the agent took the last action in the episode\n",
        "        if em.done:\n",
        "            episode_duration.append(timestep)\n",
        "            plot(episode_duration, 100, em) # plot the duration by 100 moving average\n",
        "            break\n",
        "\n",
        "    # (4.2.9.1) After *x* time steps,\n",
        "    ## weights in the target network are updated to the weights in the policy network.\n",
        "    if episode % target_update == 0:\n",
        "        target_net.load_state_dict(policy_net.state_dict())\n",
        "    \"\"\"\n",
        "    (UPDATE!)\n",
        "    We've added one line to the end of the episode loop to end the program\n",
        "     if the network solves the environment by reaching the `100-episode` average reward\n",
        "     of 195 or higher.\n",
        "    \"\"\"\n",
        "    if get_moving_average(100, episode_duration)[-1] >= 195:\n",
        "        break\n",
        "\n",
        "em.close()"
      ],
      "metadata": {
        "colab": {
          "base_uri": "https://localhost:8080/",
          "height": 489
        },
        "id": "HiF03u96XHqw",
        "outputId": "0c9edc7d-9ca6-4a0a-c1a1-5c91f83a3119"
      },
      "execution_count": null,
      "outputs": [
        {
          "output_type": "display_data",
          "data": {
            "text/plain": [
              "<Figure size 2100x600 with 2 Axes>"
            ],
            "image/png": "[encoded data removed]"
          },
          "metadata": {}
        },
        {
          "output_type": "stream",
          "name": "stdout",
          "text": [
            "- Episode: 3998, Duration [steps]: 21 \n",
            "- 100 episodes moving avg: 41.900001525878906\n",
            "- epsilon_rate: 0.01\n"
          ]
        }
      ]
    },
    {
      "cell_type": "code",
      "source": [
        "#########print hyperparameters and dqn net#########\n",
        "print(policy_net)\n",
        "print(\"batch_size:    \", batch_size)\n",
        "print(\"gamma:         \", gamma)\n",
        "print(\"eps_start:     \", eps_start)\n",
        "print(\"eps_end:       \", eps_end)\n",
        "print(\"eps_decay:     \", eps_decay)\n",
        "print(\"target_update: \", target_update)\n",
        "print(\"memory_size:   \", memory_size)\n",
        "print(\"lr:            \", lr)\n",
        "print(\"num_episodes:  \", num_episodes)\n",
        "##################################################\n",
        "elapsed_time = time.time() - start_time\n",
        "print(\"\\nDuration of training:\",format_time(elapsed_time))"
      ],
      "metadata": {
        "id": "ReOKad7ANKNz",
        "colab": {
          "base_uri": "https://localhost:8080/"
        },
        "outputId": "486dfb11-554f-4c2a-bb11-ce07f11bc952"
      },
      "execution_count": null,
      "outputs": [
        {
          "output_type": "stream",
          "name": "stdout",
          "text": [
            "DQN(\n",
            "  (conv1): Conv2d(3, 32, kernel_size=(8, 8), stride=(4, 4), padding=(1, 1))\n",
            "  (conv2): Conv2d(32, 64, kernel_size=(4, 4), stride=(2, 2), padding=(1, 1))\n",
            "  (conv3): Conv2d(64, 64, kernel_size=(3, 3), stride=(1, 1), padding=(1, 1))\n",
            "  (fc1): Linear(in_features=2816, out_features=32, bias=True)\n",
            "  (fc2): Linear(in_features=32, out_features=64, bias=True)\n",
            "  (fc3): Linear(in_features=64, out_features=128, bias=True)\n",
            "  (out): Linear(in_features=128, out_features=2, bias=True)\n",
            ")\n",
            "batch_size:     64\n",
            "gamma:          0.999\n",
            "eps_start:      1\n",
            "eps_end:        0.01\n",
            "eps_decay:      0.001\n",
            "target_update:  10\n",
            "memory_size:    1000000\n",
            "lr:             0.001\n",
            "num_episodes:   4000\n",
            "\n",
            "Duration of training: 75:43\n"
          ]
        }
      ]
    }
  ]
}